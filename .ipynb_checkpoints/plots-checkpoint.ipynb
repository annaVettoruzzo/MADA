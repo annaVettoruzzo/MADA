{
 "cells": [
  {
   "cell_type": "code",
   "execution_count": 14,
   "id": "cd637a1e-8285-4a78-be20-ed7f2dadd434",
   "metadata": {
    "pycharm": {
     "name": "#%%\n"
    }
   },
   "outputs": [],
   "source": [
    "import torch\n",
    "from tsaug import AddNoise, Convolve, Drift, Pool, Quantize, Reverse, TimeWarp\n",
    "\n",
    "import matplotlib.pyplot as plt"
   ]
  },
  {
   "cell_type": "code",
   "execution_count": 15,
   "id": "7e9ae168-eafa-4112-8134-2e9b61cd25bb",
   "metadata": {
    "pycharm": {
     "name": "#%%\n"
    }
   },
   "outputs": [],
   "source": [
    "transformations = [\n",
    "    1,\n",
    "    Reverse(),\n",
    "    AddNoise(scale=(0.001, 0.1)),\n",
    "    AddNoise(scale=(0.1, 0.3)),\n",
    "    AddNoise(scale=(0.3, 0.5)),\n",
    "    AddNoise(scale=(0.5, 0.7)),\n",
    "    AddNoise(scale=(0.7, 1.0)),\n",
    "    AddNoise(scale=(1.0, 3.0)),\n",
    "    AddNoise(scale=(3.0, 5.0)),\n",
    "    AddNoise(scale=(5.0, 7.0)),\n",
    "    AddNoise(scale=(7.0, 10.0)),\n",
    "    AddNoise(scale=(10.0, 15.0)),\n",
    "    AddNoise(scale=(15.0, 20.0)),\n",
    "    AddNoise(scale=(20.0, 25.0)),\n",
    "    AddNoise(scale=(25.0, 30.0)),\n",
    "    AddNoise(scale=(30.0, 35.0)),\n",
    "    AddNoise(scale=(35.0, 40.0)),\n",
    "    Convolve(window=[\"hann\", \"triang\", \"hamming\", \"cosine\"], size=(3, 5)),\n",
    "    Convolve(window=[\"hann\", \"triang\", \"hamming\", \"cosine\"], size=(5, 7)),\n",
    "    Convolve(window=[\"hann\", \"triang\", \"hamming\", \"cosine\"], size=(7, 10)),\n",
    "    Convolve(window=[\"hann\", \"triang\", \"hamming\", \"cosine\"], size=(10, 15)),\n",
    "    Convolve(window=[\"hann\", \"triang\", \"hamming\", \"cosine\"], size=(15, 20)),\n",
    "    Convolve(window=[\"hann\", \"triang\", \"hamming\", \"cosine\"], size=(20, 25)),\n",
    "    Convolve(window=[\"hann\", \"triang\", \"hamming\", \"cosine\"], size=(25, 30)),\n",
    "    Convolve(window=[\"hann\", \"triang\", \"hamming\", \"cosine\"], size=(30, 35)),\n",
    "    Convolve(window=[\"hann\", \"triang\", \"hamming\", \"cosine\"], size=(35, 40)),\n",
    "    Drift(max_drift=(0.001, 0.1), n_drift_points=[2, 3, 4]),\n",
    "    Drift(max_drift=(0.1, 0.3), n_drift_points=[2, 3, 4]),\n",
    "    Drift(max_drift=(0.3, 0.5), n_drift_points=[2, 3, 4]),\n",
    "    Drift(max_drift=(0.5, 0.7), n_drift_points=[2, 3, 4]),\n",
    "    Drift(max_drift=(0.7, 1.0), n_drift_points=[2, 3, 4]),\n",
    "    Drift(max_drift=(1.0, 3.0), n_drift_points=[2, 3, 4]),\n",
    "    Drift(max_drift=(3.0, 5.0), n_drift_points=[2, 3, 4]),\n",
    "    Drift(max_drift=(5.0, 7.0), n_drift_points=[2, 3, 4]),\n",
    "    Drift(max_drift=(7.0, 10.0), n_drift_points=[2, 3, 4]),\n",
    "    Drift(max_drift=(10.0, 15.0), n_drift_points=[2, 3, 4]),\n",
    "    Drift(max_drift=(15.0, 20.0), n_drift_points=[2, 3, 4]),\n",
    "    Drift(max_drift=(20.0, 25.0), n_drift_points=[2, 3, 4]),\n",
    "    Drift(max_drift=(25.0, 30.0), n_drift_points=[2, 3, 4]),\n",
    "    Drift(max_drift=(30.0, 35.0), n_drift_points=[2, 3, 4]),\n",
    "    Drift(max_drift=(35.0, 40.0), n_drift_points=[2, 3, 4]),\n",
    "\n",
    "    Drift(max_drift=(0.001, 0.1), n_drift_points=[5, 6, 7, 8, 9]),\n",
    "    Drift(max_drift=(0.1, 0.3), n_drift_points=[5, 6, 7, 8, 9]),\n",
    "    Drift(max_drift=(0.3, 0.5), n_drift_points=[5, 6, 7, 8, 9]),\n",
    "    Drift(max_drift=(0.5, 0.7), n_drift_points=[5, 6, 7, 8, 9]),\n",
    "    Drift(max_drift=(0.7, 1.0), n_drift_points=[5, 6, 7, 8, 9]),\n",
    "    Drift(max_drift=(1.0, 3.0), n_drift_points=[5, 6, 7, 8, 9]),\n",
    "    Drift(max_drift=(3.0, 5.0), n_drift_points=[5, 6, 7, 8, 9]),\n",
    "    Drift(max_drift=(5.0, 7.0), n_drift_points=[5, 6, 7, 8, 9]),\n",
    "    Drift(max_drift=(7.0, 10.0), n_drift_points=[5, 6, 7, 8, 9]),\n",
    "    Drift(max_drift=(10.0, 15.0), n_drift_points=[5, 6, 7, 8, 9]),\n",
    "    Drift(max_drift=(15.0, 20.0), n_drift_points=[5, 6, 7, 8, 9]),\n",
    "    Drift(max_drift=(20.0, 25.0), n_drift_points=[5, 6, 7, 8, 9]),\n",
    "    Drift(max_drift=(25.0, 30.0), n_drift_points=[5, 6, 7, 8, 9]),\n",
    "    Drift(max_drift=(30.0, 35.0), n_drift_points=[5, 6, 7, 8, 9]),\n",
    "    Drift(max_drift=(35.0, 40.0), n_drift_points=[5, 6, 7, 8, 9]),\n",
    "\n",
    "    Drift(max_drift=(0.001, 0.1), n_drift_points=[10, 12, 15, 18, 20]),\n",
    "    Drift(max_drift=(0.1, 0.3), n_drift_points=[10, 12, 15, 18, 20]),\n",
    "    Drift(max_drift=(0.3, 0.5), n_drift_points=[10, 12, 15, 18, 20]),\n",
    "    Drift(max_drift=(0.5, 0.7), n_drift_points=[10, 12, 15, 18, 20]),\n",
    "    Drift(max_drift=(0.7, 1.0), n_drift_points=[10, 12, 15, 18, 20]),\n",
    "    Drift(max_drift=(1.0, 3.0), n_drift_points=[10, 12, 15, 18, 20]),\n",
    "    Drift(max_drift=(3.0, 5.0), n_drift_points=[10, 12, 15, 18, 20]),\n",
    "    Drift(max_drift=(5.0, 7.0), n_drift_points=[10, 12, 15, 18, 20]),\n",
    "    Drift(max_drift=(7.0, 10.0), n_drift_points=[10, 12, 15, 18, 20]),\n",
    "    Drift(max_drift=(10.0, 15.0), n_drift_points=[10, 12, 15, 18, 20]),\n",
    "    Drift(max_drift=(15.0, 20.0), n_drift_points=[10, 12, 15, 18, 20]),\n",
    "    Drift(max_drift=(20.0, 25.0), n_drift_points=[10, 12, 15, 18, 20]),\n",
    "    Drift(max_drift=(25.0, 30.0), n_drift_points=[10, 12, 15, 18, 20]),\n",
    "    Drift(max_drift=(30.0, 35.0), n_drift_points=[10, 12, 15, 18, 20]),\n",
    "    Drift(max_drift=(35.0, 40.0), n_drift_points=[10, 12, 15, 18, 20]),\n",
    "\n",
    "    Pool(size=(3, 5), per_channel=False),\n",
    "    Pool(size=(5, 7), per_channel=False),\n",
    "    Pool(size=(7, 10), per_channel=False),\n",
    "    Pool(size=(10, 15), per_channel=False),\n",
    "    Pool(size=(15, 20), per_channel=False),\n",
    "\n",
    "    Pool(size=(3, 5), per_channel=True),\n",
    "    Pool(size=(5, 7), per_channel=True),\n",
    "    Pool(size=(7, 10), per_channel=True),\n",
    "    Pool(size=(10, 15), per_channel=True),\n",
    "    Pool(size=(15, 20), per_channel=True),\n",
    "\n",
    "    Quantize(n_levels=(3, 5), per_channel=False),\n",
    "    Quantize(n_levels=(5, 7), per_channel=False),\n",
    "    Quantize(n_levels=(7, 10), per_channel=False),\n",
    "    Quantize(n_levels=(10, 15), per_channel=False),\n",
    "    Quantize(n_levels=(15, 20), per_channel=False),\n",
    "    Quantize(n_levels=(20, 25), per_channel=False),\n",
    "    Quantize(n_levels=(25, 30), per_channel=False),\n",
    "    Quantize(n_levels=(30, 35), per_channel=False),\n",
    "    Quantize(n_levels=(35, 40), per_channel=False),\n",
    "\n",
    "    Quantize(n_levels=(3, 5), per_channel=True),\n",
    "    Quantize(n_levels=(5, 7), per_channel=True),\n",
    "    Quantize(n_levels=(7, 10), per_channel=True),\n",
    "    Quantize(n_levels=(10, 15), per_channel=True),\n",
    "    Quantize(n_levels=(15, 20), per_channel=True),\n",
    "    Quantize(n_levels=(20, 25), per_channel=True),\n",
    "    Quantize(n_levels=(25, 30), per_channel=True),\n",
    "    Quantize(n_levels=(30, 35), per_channel=True),\n",
    "    Quantize(n_levels=(35, 40), per_channel=True),\n",
    "\n",
    "    TimeWarp(n_speed_change=1, max_speed_ratio=(2., 5.)),\n",
    "    TimeWarp(n_speed_change=5, max_speed_ratio=(2., 5.)),\n",
    "    TimeWarp(n_speed_change=10, max_speed_ratio=(2., 5.)),\n",
    "    TimeWarp(n_speed_change=15, max_speed_ratio=(2., 5.)),\n",
    "    TimeWarp(n_speed_change=20, max_speed_ratio=(2., 5.)),\n",
    "    TimeWarp(n_speed_change=30, max_speed_ratio=(2., 5.)),\n",
    "    TimeWarp(n_speed_change=40, max_speed_ratio=(2., 5.)),\n",
    "    TimeWarp(n_speed_change=1, max_speed_ratio=(5., 10.)),\n",
    "    TimeWarp(n_speed_change=5, max_speed_ratio=(5., 10.)),\n",
    "    TimeWarp(n_speed_change=10, max_speed_ratio=(5., 10.)),\n",
    "    TimeWarp(n_speed_change=15, max_speed_ratio=(5., 10.)),\n",
    "    TimeWarp(n_speed_change=20, max_speed_ratio=(5., 10.)),\n",
    "    TimeWarp(n_speed_change=30, max_speed_ratio=(5., 10.)),\n",
    "    TimeWarp(n_speed_change=40, max_speed_ratio=(5., 10.)),\n",
    "    TimeWarp(n_speed_change=1, max_speed_ratio=(10., 15.)),\n",
    "    TimeWarp(n_speed_change=5, max_speed_ratio=(10., 15.)),\n",
    "    TimeWarp(n_speed_change=10, max_speed_ratio=(10., 15.)),\n",
    "    TimeWarp(n_speed_change=15, max_speed_ratio=(10., 15.)),\n",
    "    TimeWarp(n_speed_change=20, max_speed_ratio=(10., 15.)),\n",
    "    TimeWarp(n_speed_change=30, max_speed_ratio=(10., 15.)),\n",
    "    TimeWarp(n_speed_change=40, max_speed_ratio=(10., 15.)),\n",
    "    TimeWarp(n_speed_change=1, max_speed_ratio=(15., 20.)),\n",
    "    TimeWarp(n_speed_change=5, max_speed_ratio=(15., 20.)),\n",
    "    TimeWarp(n_speed_change=10, max_speed_ratio=(15., 20.)),\n",
    "    TimeWarp(n_speed_change=15, max_speed_ratio=(15., 20.)),\n",
    "    TimeWarp(n_speed_change=20, max_speed_ratio=(15., 20.)),\n",
    "    TimeWarp(n_speed_change=30, max_speed_ratio=(15., 20.)),\n",
    "    TimeWarp(n_speed_change=40, max_speed_ratio=(15., 20.)),\n",
    "    TimeWarp(n_speed_change=1, max_speed_ratio=(20., 30.)),\n",
    "    TimeWarp(n_speed_change=5, max_speed_ratio=(20., 30.)),\n",
    "    TimeWarp(n_speed_change=10, max_speed_ratio=(20., 30.)),\n",
    "    TimeWarp(n_speed_change=15, max_speed_ratio=(20., 30.)),\n",
    "    TimeWarp(n_speed_change=20, max_speed_ratio=(20., 30.)),\n",
    "    TimeWarp(n_speed_change=30, max_speed_ratio=(20., 30.)),\n",
    "    TimeWarp(n_speed_change=40, max_speed_ratio=(20., 30.)),\n",
    "    TimeWarp(n_speed_change=1, max_speed_ratio=(30., 40.)),\n",
    "    TimeWarp(n_speed_change=5, max_speed_ratio=(30., 40.)),\n",
    "    TimeWarp(n_speed_change=10, max_speed_ratio=(30., 40.)),\n",
    "    TimeWarp(n_speed_change=15, max_speed_ratio=(30., 40.)),\n",
    "    TimeWarp(n_speed_change=20, max_speed_ratio=(30., 40.)),\n",
    "    TimeWarp(n_speed_change=30, max_speed_ratio=(30., 40.)),\n",
    "    TimeWarp(n_speed_change=40, max_speed_ratio=(30., 40.)),\n",
    "\n",
    "    (Reverse() + AddNoise(0.001, 0.1)),\n",
    "    (Reverse() + AddNoise(0.1, 0.3)),\n",
    "    (Reverse() + AddNoise(0.3, 0.5)),\n",
    "    (Reverse() + AddNoise(0.5, 0.7)),\n",
    "    (Reverse() + AddNoise(0.7, 1.0)),\n",
    "    (Reverse() + AddNoise(1.0, 3.0)),\n",
    "    (Reverse() + AddNoise(3.0, 5.0)),\n",
    "    (Reverse() + AddNoise(5.0, 7.0)),\n",
    "    (Reverse() + AddNoise(7.0, 10.0)),\n",
    "    (Reverse() + AddNoise(10.0, 15.0)),\n",
    "    (Reverse() + AddNoise(15.0, 20.0)),\n",
    "    (Reverse() + AddNoise(20.0, 25.0)),\n",
    "    (Reverse() + AddNoise(25.0, 30.0)),\n",
    "    (Reverse() + AddNoise(30.0, 35.0)),\n",
    "    (Reverse() + AddNoise(35.0, 40.0)),\n",
    "]"
   ]
  },
  {
   "cell_type": "markdown",
   "id": "a6e03222-b3dd-48b9-81e0-5aba5ee05112",
   "metadata": {
    "pycharm": {
     "name": "#%% md\n"
    }
   },
   "source": [
    "## Plot distribution of weight values"
   ]
  },
  {
   "cell_type": "code",
   "execution_count": 16,
   "id": "3ba27b8d-e724-4cb0-af68-ca56f667bf34",
   "metadata": {
    "pycharm": {
     "name": "#%%\n"
    }
   },
   "outputs": [],
   "source": [
    "dataset = 'DSA'\n",
    "folder = f'results/{dataset}/seed0_50000_newinit'\n",
    "\n",
    "\n",
    "weights = torch.load(f\"{folder}/MAMLAugTrTsW_weights\", map_location=torch.device('cpu'))"
   ]
  },
  {
   "cell_type": "code",
   "execution_count": 17,
   "id": "72f956f7-1075-41b1-a641-379e5f409877",
   "metadata": {
    "pycharm": {
     "name": "#%%\n"
    }
   },
   "outputs": [
    {
     "data": {
      "text/plain": [
       "tensor([-0.0557, -0.2179, -0.0477,  0.0268,  0.2917,  0.6141,  0.7256,  0.5515,\n",
       "        -0.1940, -1.0135, -1.5839, -2.5275, -3.0977, -3.4388, -3.5164, -3.4100,\n",
       "        -3.3891, -0.1658, -0.2704, -0.3692, -0.5228, -0.6526, -0.7660, -0.8565,\n",
       "        -0.9057, -0.9665, -0.0285, -0.0566, -0.1219, -0.4574, -0.6408, -1.1397,\n",
       "        -1.5754, -1.5894, -2.0948, -2.4460, -2.8445, -3.0941, -3.0051, -3.1061,\n",
       "        -3.1026, -0.0588, -0.0719, -0.1983, -0.2719, -0.6245, -0.9311, -1.1825,\n",
       "        -1.5847, -1.7850, -2.6622, -2.9457, -3.0263, -3.3085, -3.1907, -2.8988,\n",
       "        -0.0428, -0.1063, -0.2654, -0.2189, -0.6129, -0.8352, -1.1705, -1.5119,\n",
       "        -2.0038, -2.1114, -2.8345, -3.2352, -3.1447, -3.1302, -3.0905, -0.2924,\n",
       "        -0.4461, -0.5866, -0.7980, -0.9153, -0.2836, -0.4114, -0.6026, -0.8026,\n",
       "        -0.9199, -0.4113, -0.3115, -0.2151, -0.1516, -0.1103, -0.0986, -0.0848,\n",
       "        -0.0803, -0.0802, -0.4244, -0.2871, -0.2083, -0.1344, -0.1100, -0.1007,\n",
       "        -0.0886, -0.0825, -0.0851,  0.0504, -0.1332, -0.1354, -0.1222, -0.1419,\n",
       "        -0.1458, -0.1170, -0.0474, -0.1297, -0.1501, -0.1190, -0.1588, -0.1068,\n",
       "        -0.1465,  0.0526, -0.1331, -0.1455, -0.1135, -0.1121, -0.0841, -0.1227,\n",
       "         0.1870, -0.1616, -0.1547, -0.1221, -0.1752, -0.1447, -0.1534,  0.1126,\n",
       "        -0.1768, -0.2356, -0.1389, -0.1437, -0.1475, -0.1672,  0.2663, -0.0351,\n",
       "        -0.0981, -0.1567, -0.1396, -0.1057, -0.1603, -0.1954,  0.0671,  0.0358,\n",
       "         0.1056,  0.2806,  0.8979,  0.5847,  0.5602,  0.4254,  0.0092, -0.3191,\n",
       "        -0.3807, -0.7886, -0.7676, -0.9836])"
      ]
     },
     "execution_count": 17,
     "metadata": {},
     "output_type": "execute_result"
    }
   ],
   "source": [
    "weights"
   ]
  },
  {
   "cell_type": "code",
   "execution_count": 18,
   "id": "01dabd10-89d2-45a4-90c3-82d4da89e74e",
   "metadata": {
    "pycharm": {
     "name": "#%%\n"
    }
   },
   "outputs": [
    {
     "data": {
      "image/png": "[encoded data removed]",
      "text/plain": [
       "<Figure size 640x480 with 1 Axes>"
      ]
     },
     "metadata": {},
     "output_type": "display_data"
    }
   ],
   "source": [
    "plt.hist(weights, bins=20, range=(-2, 2), edgecolor='black')\n",
    "plt.xlabel('Weights')\n",
    "plt.ylabel('Frequency')\n",
    "plt.title('Distribution of Weights Values')\n",
    "plt.savefig(f'{folder}/distribution_weights.png')\n",
    "plt.show()"
   ]
  },
  {
   "cell_type": "code",
   "execution_count": 34,
   "id": "36c59598-faad-4043-9613-306f8a3cee2d",
   "metadata": {
    "pycharm": {
     "name": "#%%\n"
    }
   },
   "outputs": [
    {
     "data": {
      "text/plain": [
       "[(tensor(-0.0557), 1),\n",
       " (tensor(-0.2179), <tsaug._augmenter.reverse.Reverse at 0x24c3f1feef0>),\n",
       " (tensor(-0.0477), <tsaug._augmenter.add_noise.AddNoise at 0x24c3f1fef50>),\n",
       " (tensor(0.0268), <tsaug._augmenter.add_noise.AddNoise at 0x24c3f1fefb0>),\n",
       " (tensor(0.2917), <tsaug._augmenter.add_noise.AddNoise at 0x24c3f1fef80>),\n",
       " (tensor(0.6141), <tsaug._augmenter.add_noise.AddNoise at 0x24c3f1ff040>),\n",
       " (tensor(0.7256), <tsaug._augmenter.add_noise.AddNoise at 0x24c3f1fefe0>),\n",
       " (tensor(0.5515), <tsaug._augmenter.add_noise.AddNoise at 0x24c3f1ff070>),\n",
       " (tensor(-0.1940), <tsaug._augmenter.add_noise.AddNoise at 0x24c3f1ff190>),\n",
       " (tensor(-1.0135), <tsaug._augmenter.add_noise.AddNoise at 0x24c3f20f940>),\n",
       " (tensor(-1.5839), <tsaug._augmenter.add_noise.AddNoise at 0x24c3f20f9a0>),\n",
       " (tensor(-2.5275), <tsaug._augmenter.add_noise.AddNoise at 0x24c3f20f970>),\n",
       " (tensor(-3.0977), <tsaug._augmenter.add_noise.AddNoise at 0x24c3f20f910>),\n",
       " (tensor(-3.4388), <tsaug._augmenter.add_noise.AddNoise at 0x24c3f20f8e0>),\n",
       " (tensor(-3.5164), <tsaug._augmenter.add_noise.AddNoise at 0x24c3f20f8b0>),\n",
       " (tensor(-3.4100), <tsaug._augmenter.add_noise.AddNoise at 0x24c3f20f880>),\n",
       " (tensor(-3.3891), <tsaug._augmenter.add_noise.AddNoise at 0x24c3f20f850>),\n",
       " (tensor(-0.1658), <tsaug._augmenter.convolve.Convolve at 0x24c3f20f820>),\n",
       " (tensor(-0.2704), <tsaug._augmenter.convolve.Convolve at 0x24c3f20f7f0>),\n",
       " (tensor(-0.3692), <tsaug._augmenter.convolve.Convolve at 0x24c3f20f760>),\n",
       " (tensor(-0.5228), <tsaug._augmenter.convolve.Convolve at 0x24c3f20f730>),\n",
       " (tensor(-0.6526), <tsaug._augmenter.convolve.Convolve at 0x24c3f20f700>),\n",
       " (tensor(-0.7660), <tsaug._augmenter.convolve.Convolve at 0x24c3f20c040>),\n",
       " (tensor(-0.8565), <tsaug._augmenter.convolve.Convolve at 0x24c3f20c070>),\n",
       " (tensor(-0.9057), <tsaug._augmenter.convolve.Convolve at 0x24c3f20c0a0>),\n",
       " (tensor(-0.9665), <tsaug._augmenter.convolve.Convolve at 0x24c3f20c0d0>),\n",
       " (tensor(-0.0285), <tsaug._augmenter.drift.Drift at 0x24c3f20c100>),\n",
       " (tensor(-0.0566), <tsaug._augmenter.drift.Drift at 0x24c3f20c130>),\n",
       " (tensor(-0.1219), <tsaug._augmenter.drift.Drift at 0x24c3f20f790>),\n",
       " (tensor(-0.4574), <tsaug._augmenter.drift.Drift at 0x24c3f20f7c0>),\n",
       " (tensor(-0.6408), <tsaug._augmenter.drift.Drift at 0x24c3f20c160>),\n",
       " (tensor(-1.1397), <tsaug._augmenter.drift.Drift at 0x24c3f20c190>),\n",
       " (tensor(-1.5754), <tsaug._augmenter.drift.Drift at 0x24c3f20c1c0>),\n",
       " (tensor(-1.5894), <tsaug._augmenter.drift.Drift at 0x24c3f20c1f0>),\n",
       " (tensor(-2.0948), <tsaug._augmenter.drift.Drift at 0x24c3f20c220>),\n",
       " (tensor(-2.4460), <tsaug._augmenter.drift.Drift at 0x24c3f20c250>),\n",
       " (tensor(-2.8445), <tsaug._augmenter.drift.Drift at 0x24c3f20c280>),\n",
       " (tensor(-3.0941), <tsaug._augmenter.drift.Drift at 0x24c3f20c2b0>),\n",
       " (tensor(-3.0051), <tsaug._augmenter.drift.Drift at 0x24c3f20c310>),\n",
       " (tensor(-3.1061), <tsaug._augmenter.drift.Drift at 0x24c3f20c340>),\n",
       " (tensor(-3.1026), <tsaug._augmenter.drift.Drift at 0x24c3f20c2e0>),\n",
       " (tensor(-0.0588), <tsaug._augmenter.drift.Drift at 0x24c3f20c3a0>),\n",
       " (tensor(-0.0719), <tsaug._augmenter.drift.Drift at 0x24c3f20c400>),\n",
       " (tensor(-0.1983), <tsaug._augmenter.drift.Drift at 0x24c3f20c3d0>),\n",
       " (tensor(-0.2719), <tsaug._augmenter.drift.Drift at 0x24c3f20c460>),\n",
       " (tensor(-0.6245), <tsaug._augmenter.drift.Drift at 0x24c3f20c4c0>),\n",
       " (tensor(-0.9311), <tsaug._augmenter.drift.Drift at 0x24c3f20c520>),\n",
       " (tensor(-1.1825), <tsaug._augmenter.drift.Drift at 0x24c3f20c580>),\n",
       " (tensor(-1.5847), <tsaug._augmenter.drift.Drift at 0x24c3f20c5e0>),\n",
       " (tensor(-1.7850), <tsaug._augmenter.drift.Drift at 0x24c3f20c640>),\n",
       " (tensor(-2.6622), <tsaug._augmenter.drift.Drift at 0x24c3f20c6a0>),\n",
       " (tensor(-2.9457), <tsaug._augmenter.drift.Drift at 0x24c3f20c700>),\n",
       " (tensor(-3.0263), <tsaug._augmenter.drift.Drift at 0x24c3f20c760>),\n",
       " (tensor(-3.3085), <tsaug._augmenter.drift.Drift at 0x24c3f20c7c0>),\n",
       " (tensor(-3.1907), <tsaug._augmenter.drift.Drift at 0x24c3f20c820>),\n",
       " (tensor(-2.8988), <tsaug._augmenter.drift.Drift at 0x24c3f20c880>),\n",
       " (tensor(-0.0428), <tsaug._augmenter.drift.Drift at 0x24c3f20c8e0>),\n",
       " (tensor(-0.1063), <tsaug._augmenter.drift.Drift at 0x24c3f20c940>),\n",
       " (tensor(-0.2654), <tsaug._augmenter.drift.Drift at 0x24c3f20c9a0>),\n",
       " (tensor(-0.2189), <tsaug._augmenter.drift.Drift at 0x24c3f20ca00>),\n",
       " (tensor(-0.6129), <tsaug._augmenter.drift.Drift at 0x24c3f20ca60>),\n",
       " (tensor(-0.8352), <tsaug._augmenter.drift.Drift at 0x24c3f20cb50>),\n",
       " (tensor(-1.1705), <tsaug._augmenter.drift.Drift at 0x24c3f20cac0>),\n",
       " (tensor(-1.5119), <tsaug._augmenter.drift.Drift at 0x24c3f20cb80>),\n",
       " (tensor(-2.0038), <tsaug._augmenter.drift.Drift at 0x24c3f20f6a0>),\n",
       " (tensor(-2.1114), <tsaug._augmenter.drift.Drift at 0x24c3f20f640>),\n",
       " (tensor(-2.8345), <tsaug._augmenter.drift.Drift at 0x24c3f20ead0>),\n",
       " (tensor(-3.2352), <tsaug._augmenter.drift.Drift at 0x24c3f20eb30>),\n",
       " (tensor(-3.1447), <tsaug._augmenter.drift.Drift at 0x24c3f20eb90>),\n",
       " (tensor(-3.1302), <tsaug._augmenter.drift.Drift at 0x24c3f20ebf0>),\n",
       " (tensor(-3.0905), <tsaug._augmenter.drift.Drift at 0x24c3f20ec50>),\n",
       " (tensor(-0.2924), <tsaug._augmenter.pool.Pool at 0x24c3f20ed40>),\n",
       " (tensor(-0.4461), <tsaug._augmenter.pool.Pool at 0x24c3f20ecb0>),\n",
       " (tensor(-0.5866), <tsaug._augmenter.pool.Pool at 0x24c3f20ed70>),\n",
       " (tensor(-0.7980), <tsaug._augmenter.pool.Pool at 0x24c3f20ed10>),\n",
       " (tensor(-0.9153), <tsaug._augmenter.pool.Pool at 0x24c3f20edd0>),\n",
       " (tensor(-0.2836), <tsaug._augmenter.pool.Pool at 0x24c3f20eda0>),\n",
       " (tensor(-0.4114), <tsaug._augmenter.pool.Pool at 0x24c3f22b850>),\n",
       " (tensor(-0.6026), <tsaug._augmenter.pool.Pool at 0x24c3f22b8b0>),\n",
       " (tensor(-0.8026), <tsaug._augmenter.pool.Pool at 0x24c3f22b880>),\n",
       " (tensor(-0.9199), <tsaug._augmenter.pool.Pool at 0x24c3f22b820>),\n",
       " (tensor(-0.4113), <tsaug._augmenter.quantize.Quantize at 0x24c3f22b7f0>),\n",
       " (tensor(-0.3115), <tsaug._augmenter.quantize.Quantize at 0x24c3f22b7c0>),\n",
       " (tensor(-0.2151), <tsaug._augmenter.quantize.Quantize at 0x24c3f22b790>),\n",
       " (tensor(-0.1516), <tsaug._augmenter.quantize.Quantize at 0x24c3f22b760>),\n",
       " (tensor(-0.1103), <tsaug._augmenter.quantize.Quantize at 0x24c3f22b730>),\n",
       " (tensor(-0.0986), <tsaug._augmenter.quantize.Quantize at 0x24c3f22b700>),\n",
       " (tensor(-0.0848), <tsaug._augmenter.quantize.Quantize at 0x24c3f22b6d0>),\n",
       " (tensor(-0.0803), <tsaug._augmenter.quantize.Quantize at 0x24c3f22b6a0>),\n",
       " (tensor(-0.0802), <tsaug._augmenter.quantize.Quantize at 0x24c3f22b670>),\n",
       " (tensor(-0.4244), <tsaug._augmenter.quantize.Quantize at 0x24c3f22b640>),\n",
       " (tensor(-0.2871), <tsaug._augmenter.quantize.Quantize at 0x24c3f22b610>),\n",
       " (tensor(-0.2083), <tsaug._augmenter.quantize.Quantize at 0x24c3f22b5e0>),\n",
       " (tensor(-0.1344), <tsaug._augmenter.quantize.Quantize at 0x24c3f22b5b0>),\n",
       " (tensor(-0.1100), <tsaug._augmenter.quantize.Quantize at 0x24c3f22b580>),\n",
       " (tensor(-0.1007), <tsaug._augmenter.quantize.Quantize at 0x24c3f22b550>),\n",
       " (tensor(-0.0886), <tsaug._augmenter.quantize.Quantize at 0x24c3f22b520>),\n",
       " (tensor(-0.0825), <tsaug._augmenter.quantize.Quantize at 0x24c3f22b4f0>),\n",
       " (tensor(-0.0851), <tsaug._augmenter.quantize.Quantize at 0x24c3f22b4c0>),\n",
       " (tensor(0.0504), <tsaug._augmenter.time_warp.TimeWarp at 0x24c3f22b490>),\n",
       " (tensor(-0.1332), <tsaug._augmenter.time_warp.TimeWarp at 0x24c3f22b3d0>),\n",
       " (tensor(-0.1354), <tsaug._augmenter.time_warp.TimeWarp at 0x24c3f22b370>),\n",
       " (tensor(-0.1222), <tsaug._augmenter.time_warp.TimeWarp at 0x24c3f22b310>),\n",
       " (tensor(-0.1419), <tsaug._augmenter.time_warp.TimeWarp at 0x24c3f22b2b0>),\n",
       " (tensor(-0.1458), <tsaug._augmenter.time_warp.TimeWarp at 0x24c3f22b280>),\n",
       " (tensor(-0.1170), <tsaug._augmenter.time_warp.TimeWarp at 0x24c3f22b1f0>),\n",
       " (tensor(-0.0474), <tsaug._augmenter.time_warp.TimeWarp at 0x24c3f22b1c0>),\n",
       " (tensor(-0.1297), <tsaug._augmenter.time_warp.TimeWarp at 0x24c3f22b160>),\n",
       " (tensor(-0.1501), <tsaug._augmenter.time_warp.TimeWarp at 0x24c3f22b0d0>),\n",
       " (tensor(-0.1190), <tsaug._augmenter.time_warp.TimeWarp at 0x24c3f22b070>),\n",
       " (tensor(-0.1588), <tsaug._augmenter.time_warp.TimeWarp at 0x24c3f22b010>),\n",
       " (tensor(-0.1068), <tsaug._augmenter.time_warp.TimeWarp at 0x24c3f22afb0>),\n",
       " (tensor(-0.1465), <tsaug._augmenter.time_warp.TimeWarp at 0x24c3f22af50>),\n",
       " (tensor(0.0526), <tsaug._augmenter.time_warp.TimeWarp at 0x24c3f22aef0>),\n",
       " (tensor(-0.1331), <tsaug._augmenter.time_warp.TimeWarp at 0x24c3f22ae90>),\n",
       " (tensor(-0.1455), <tsaug._augmenter.time_warp.TimeWarp at 0x24c3f22ae30>),\n",
       " (tensor(-0.1135), <tsaug._augmenter.time_warp.TimeWarp at 0x24c3f22add0>),\n",
       " (tensor(-0.1121), <tsaug._augmenter.time_warp.TimeWarp at 0x24c3f22ad70>),\n",
       " (tensor(-0.0841), <tsaug._augmenter.time_warp.TimeWarp at 0x24c3f22ad10>),\n",
       " (tensor(-0.1227), <tsaug._augmenter.time_warp.TimeWarp at 0x24c3f22acb0>),\n",
       " (tensor(0.1870), <tsaug._augmenter.time_warp.TimeWarp at 0x24c3f22ac50>),\n",
       " (tensor(-0.1616), <tsaug._augmenter.time_warp.TimeWarp at 0x24c3f22abf0>),\n",
       " (tensor(-0.1547), <tsaug._augmenter.time_warp.TimeWarp at 0x24c3f22ab90>),\n",
       " (tensor(-0.1221), <tsaug._augmenter.time_warp.TimeWarp at 0x24c3f22ab30>),\n",
       " (tensor(-0.1752), <tsaug._augmenter.time_warp.TimeWarp at 0x24c3f22aad0>),\n",
       " (tensor(-0.1447), <tsaug._augmenter.time_warp.TimeWarp at 0x24c3f22aa70>),\n",
       " (tensor(-0.1534), <tsaug._augmenter.time_warp.TimeWarp at 0x24c3f22aa10>),\n",
       " (tensor(0.1126), <tsaug._augmenter.time_warp.TimeWarp at 0x24c3f22a9b0>),\n",
       " (tensor(-0.1768), <tsaug._augmenter.time_warp.TimeWarp at 0x24c3f22a980>),\n",
       " (tensor(-0.2356), <tsaug._augmenter.time_warp.TimeWarp at 0x24c3f22a920>),\n",
       " (tensor(-0.1389), <tsaug._augmenter.time_warp.TimeWarp at 0x24c3f22a890>),\n",
       " (tensor(-0.1437), <tsaug._augmenter.time_warp.TimeWarp at 0x24c3f22a830>),\n",
       " (tensor(-0.1475), <tsaug._augmenter.time_warp.TimeWarp at 0x24c3f22a7d0>),\n",
       " (tensor(-0.1672), <tsaug._augmenter.time_warp.TimeWarp at 0x24c3f22a770>),\n",
       " (tensor(0.2663), <tsaug._augmenter.time_warp.TimeWarp at 0x24c3f22a710>),\n",
       " (tensor(-0.0351), <tsaug._augmenter.time_warp.TimeWarp at 0x24c3f22a6e0>),\n",
       " (tensor(-0.0981), <tsaug._augmenter.time_warp.TimeWarp at 0x24c3f22a650>),\n",
       " (tensor(-0.1567), <tsaug._augmenter.time_warp.TimeWarp at 0x24c3f22a5f0>),\n",
       " (tensor(-0.1396), <tsaug._augmenter.time_warp.TimeWarp at 0x24c3f22a590>),\n",
       " (tensor(-0.1057), <tsaug._augmenter.time_warp.TimeWarp at 0x24c3f22a530>),\n",
       " (tensor(-0.1603), <tsaug._augmenter.time_warp.TimeWarp at 0x24c3f22a4d0>),\n",
       " (tensor(-0.1954), <tsaug._augmenter.base._AugmenterPipe at 0x24c3f22a4a0>),\n",
       " (tensor(0.0671), <tsaug._augmenter.base._AugmenterPipe at 0x24c3f22a2f0>),\n",
       " (tensor(0.0358), <tsaug._augmenter.base._AugmenterPipe at 0x24c3f22a1d0>),\n",
       " (tensor(0.1056), <tsaug._augmenter.base._AugmenterPipe at 0x24c3f22a0b0>),\n",
       " (tensor(0.2806), <tsaug._augmenter.base._AugmenterPipe at 0x24c3f229f90>),\n",
       " (tensor(0.8979), <tsaug._augmenter.base._AugmenterPipe at 0x24c3f229e70>),\n",
       " (tensor(0.5847), <tsaug._augmenter.base._AugmenterPipe at 0x24c3f229d50>),\n",
       " (tensor(0.5602), <tsaug._augmenter.base._AugmenterPipe at 0x24c3f229c30>),\n",
       " (tensor(0.4254), <tsaug._augmenter.base._AugmenterPipe at 0x24c3f229b10>),\n",
       " (tensor(0.0092), <tsaug._augmenter.base._AugmenterPipe at 0x24c3f2299f0>),\n",
       " (tensor(-0.3191), <tsaug._augmenter.base._AugmenterPipe at 0x24c3f2298d0>),\n",
       " (tensor(-0.3807), <tsaug._augmenter.base._AugmenterPipe at 0x24c3f2297b0>),\n",
       " (tensor(-0.7886), <tsaug._augmenter.base._AugmenterPipe at 0x24c3f229690>),\n",
       " (tensor(-0.7676), <tsaug._augmenter.base._AugmenterPipe at 0x24c3f229570>),\n",
       " (tensor(-0.9836), <tsaug._augmenter.base._AugmenterPipe at 0x24c3f229450>)]"
      ]
     },
     "execution_count": 34,
     "metadata": {},
     "output_type": "execute_result"
    }
   ],
   "source": [
    "# Combine vectors weights and transformation to see the transformations with the highest weight\n",
    "combined = list(zip(weights, transformations))\n",
    "combined"
   ]
  },
  {
   "cell_type": "code",
   "execution_count": null,
   "id": "f4139dea-6839-4eba-8612-43bced79fc36",
   "metadata": {
    "pycharm": {
     "name": "#%%\n"
    }
   },
   "outputs": [],
   "source": [
    "# Plot noise level vs weights\n",
    "\n",
    "noise_levels = [(0.001, 0.1),(0.1, 0.3),(0.3, 0.5),(0.5, 0.7),(0.7, 1.0),(1.0, 3.0),(3.0, 5.0),(5.0, 7.0),(7.0, 10.0),(10.0, 15.0),(15.0, 20.0),(20.0, 25.0),(25.0, 30.0),(30.0, 35.0),(35.0, 40.0)]\n"
   ]
  },
  {
   "cell_type": "code",
   "execution_count": null,
   "id": "303cce34-8236-49bf-968a-dbb79124490e",
   "metadata": {
    "pycharm": {
     "name": "#%%\n"
    }
   },
   "outputs": [],
   "source": []
  }
 ],
 "metadata": {
  "kernelspec": {
   "display_name": "Python 3 (ipykernel)",
   "language": "python",
   "name": "python3"
  },
  "language_info": {
   "codemirror_mode": {
    "name": "ipython",
    "version": 3
   },
   "file_extension": ".py",
   "mimetype": "text/x-python",
   "name": "python",
   "nbconvert_exporter": "python",
   "pygments_lexer": "ipython3",
   "version": "3.9.7"
  }
 },
 "nbformat": 4,
 "nbformat_minor": 5
}
