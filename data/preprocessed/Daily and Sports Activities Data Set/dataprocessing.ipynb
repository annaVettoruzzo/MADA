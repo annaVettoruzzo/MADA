{
 "cells": [
  {
   "cell_type": "code",
   "execution_count": 1,
   "id": "d87d5e88",
   "metadata": {},
   "outputs": [],
   "source": [
    "import pandas as pd\n",
    "import numpy as np\n",
    "import pickle"
   ]
  },
  {
   "cell_type": "code",
   "execution_count": 2,
   "id": "ce942626",
   "metadata": {},
   "outputs": [],
   "source": [
    "normalize = True\n",
    "def load_activity_person(activity, person, n=25):\n",
    "    X = []\n",
    "    for seg in range(0, 60):\n",
    "        segment = \"s\"+str(seg+1).zfill(2)\n",
    "        fname = f\"../../raw/Daily and Sports Activities Data Set/{activity}/{person}/{segment}.txt\"\n",
    "        df = pd.read_csv(fname, header=None)\n",
    "        x = df.values\n",
    "        if normalize:\n",
    "            #x = (x - x.mean(axis=0)) / x.std(axis=0)\n",
    "            x = x / ( x.max(axis=0) - x.min(axis=0) )\n",
    "        xs = [ x[i:i + n].T for i in range(0, len(x), n) ]\n",
    "        X = X + xs\n",
    "    X = np.array(X)\n",
    "    return X"
   ]
  },
  {
   "cell_type": "code",
   "execution_count": 3,
   "id": "ce3205cc",
   "metadata": {},
   "outputs": [],
   "source": [
    "def load_person(person):\n",
    "    dico = {}\n",
    "    for act in range(0, 19):\n",
    "        activity = \"a\"+str(act+1).zfill(2)\n",
    "        dico[act] = load_activity_person(activity, person)\n",
    "    return dico"
   ]
  },
  {
   "cell_type": "code",
   "execution_count": 4,
   "id": "73308aef",
   "metadata": {},
   "outputs": [],
   "source": [
    "def load():\n",
    "    data = {}\n",
    "    for per in range(0, 8):\n",
    "        person = f\"p{per+1}\"\n",
    "        data[per] = load_person(person)\n",
    "    return data"
   ]
  },
  {
   "cell_type": "code",
   "execution_count": 5,
   "id": "059ed0c9",
   "metadata": {},
   "outputs": [],
   "source": [
    "def process():\n",
    "    data = load()\n",
    "    with open(\"data.pickle\", 'wb') as handle: \n",
    "        pickle.dump(data, handle)"
   ]
  },
  {
   "cell_type": "code",
   "execution_count": null,
   "id": "6ced1022",
   "metadata": {},
   "outputs": [],
   "source": [
    "process()\n"
   ]
  },
  {
   "cell_type": "code",
   "execution_count": null,
   "id": "37e2eb26-466d-473a-aa17-c056ad7e19fb",
   "metadata": {},
   "outputs": [],
   "source": [
    "\n",
    "with open(\"data.pickle\", 'rb') as handle:\n",
    "    data = pickle.load(handle)\n",
    "    print( data.keys() )"
   ]
  },
  {
   "cell_type": "code",
   "execution_count": null,
   "id": "3cb1e712-1593-4413-9578-4e27383e3c22",
   "metadata": {},
   "outputs": [],
   "source": []
  }
 ],
 "metadata": {
  "kernelspec": {
   "display_name": "Python 3 (ipykernel)",
   "language": "python",
   "name": "python3"
  },
  "language_info": {
   "codemirror_mode": {
    "name": "ipython",
    "version": 3
   },
   "file_extension": ".py",
   "mimetype": "text/x-python",
   "name": "python",
   "nbconvert_exporter": "python",
   "pygments_lexer": "ipython3",
   "version": "3.10.12"
  }
 },
 "nbformat": 4,
 "nbformat_minor": 5
}
