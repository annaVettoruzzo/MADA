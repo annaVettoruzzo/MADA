{
 "cells": [
  {
   "cell_type": "code",
   "execution_count": 1,
   "id": "d87d5e88",
   "metadata": {},
   "outputs": [],
   "source": [
    "import pandas as pd\n",
    "import numpy as np\n",
    "import pickle\n",
    "from glob import glob\n",
    "import os"
   ]
  },
  {
   "cell_type": "code",
   "execution_count": 2,
   "id": "bca104d9",
   "metadata": {},
   "outputs": [],
   "source": [
    "def chunks(lst, n):\n",
    "    chunked = [ lst[i:i + n] for i in range(0, len(lst), n) ]\n",
    "    return np.array(chunked[:-1])"
   ]
  },
  {
   "cell_type": "code",
   "execution_count": 3,
   "id": "67c57223",
   "metadata": {},
   "outputs": [],
   "source": [
    "n = 50\n",
    "normalize = True\n",
    "\n",
    "data = {}\n",
    "\n",
    "for i in range(10):\n",
    "    filenames = glob(f\"../../raw/Vicon Physical Action Data Set/sub{i+1}/aggressive/*.txt\") + glob(f\"raw/sub{i+1}/normal/*.txt\")\n",
    "    ids = np.argsort([os.path.basename(fname) for fname in filenames])\n",
    "    filenames = [filenames[j] for j in ids]\n",
    "    \n",
    "    dico = {}\n",
    "    for c, fname in enumerate(filenames):\n",
    "        df = pd.read_csv(fname, header=None, delimiter=r\"\\s+\")\n",
    "        df = df.drop(columns=[0])\n",
    "        \n",
    "        values = df.values[:, :-1].astype(float)\n",
    "        \n",
    "        if normalize:\n",
    "            #values = (values - values.mean(axis=0)) / values.std(axis=0)\n",
    "            values = values / ( values.max(axis=0) - values.min(axis=0) )\n",
    "        \n",
    "        X = np.array([ arr.T for arr in chunks(values, n) ])\n",
    "        dico[c] = X\n",
    "    \n",
    "    data[i] = dico"
   ]
  },
  {
   "cell_type": "code",
   "execution_count": 4,
   "id": "2f9546dc",
   "metadata": {},
   "outputs": [
    {
     "name": "stdout",
     "output_type": "stream",
     "text": [
      "==============> 0 10\n",
      "==============> 1 10\n",
      "==============> 2 10\n",
      "==============> 3 10\n",
      "==============> 4 10\n",
      "==============> 5 10\n",
      "==============> 6 10\n",
      "==============> 7 10\n",
      "==============> 8 10\n",
      "==============> 9 10\n"
     ]
    }
   ],
   "source": [
    "for ke in data:\n",
    "    #print(data[ke].keys())\n",
    "    print(\"==============>\", ke, len(data[ke].keys()))"
   ]
  },
  {
   "cell_type": "code",
   "execution_count": 5,
   "id": "8c62eac2",
   "metadata": {},
   "outputs": [],
   "source": [
    "with open(f\"data.pickle\", 'wb') as handle: \n",
    "    pickle.dump(data, handle)"
   ]
  },
  {
   "cell_type": "code",
   "execution_count": 6,
   "id": "7d634494",
   "metadata": {},
   "outputs": [
    {
     "name": "stdout",
     "output_type": "stream",
     "text": [
      "dict_keys([0, 1, 2, 3, 4, 5, 6, 7, 8, 9])\n",
      "dict_keys([0, 1, 2, 3, 4, 5, 6, 7, 8, 9])\n"
     ]
    }
   ],
   "source": [
    "with open(f\"data.pickle\", 'rb') as handle:\n",
    "    data = pickle.load(handle)\n",
    "    print( data.keys() )\n",
    "    print( data[2].keys() )"
   ]
  },
  {
   "cell_type": "code",
   "execution_count": null,
   "id": "764a9f3d",
   "metadata": {},
   "outputs": [],
   "source": []
  },
  {
   "cell_type": "code",
   "execution_count": null,
   "id": "fd8e6c5f",
   "metadata": {},
   "outputs": [],
   "source": []
  },
  {
   "cell_type": "code",
   "execution_count": null,
   "id": "f83608a7",
   "metadata": {},
   "outputs": [],
   "source": []
  }
 ],
 "metadata": {
  "kernelspec": {
   "display_name": "Python 3 (ipykernel)",
   "language": "python",
   "name": "python3"
  },
  "language_info": {
   "codemirror_mode": {
    "name": "ipython",
    "version": 3
   },
   "file_extension": ".py",
   "mimetype": "text/x-python",
   "name": "python",
   "nbconvert_exporter": "python",
   "pygments_lexer": "ipython3",
   "version": "3.10.12"
  }
 },
 "nbformat": 4,
 "nbformat_minor": 5
}
