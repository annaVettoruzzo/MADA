{
 "cells": [
  {
   "cell_type": "code",
   "execution_count": 1,
   "id": "d87d5e88",
   "metadata": {},
   "outputs": [],
   "source": [
    "import pandas as pd\n",
    "import numpy as np\n",
    "import pickle"
   ]
  },
  {
   "cell_type": "code",
   "execution_count": 2,
   "id": "bca104d9",
   "metadata": {},
   "outputs": [],
   "source": [
    "def chunks(lst, n):\n",
    "    chunked = [ lst[i:i + n] for i in range(0, len(lst), n) ]\n",
    "    return np.array(chunked[:-1])"
   ]
  },
  {
   "cell_type": "code",
   "execution_count": 3,
   "id": "67c57223",
   "metadata": {},
   "outputs": [],
   "source": [
    "n = 500\n",
    "normalize = True\n",
    "data = {}\n",
    "\n",
    "for i, person in enumerate(range(101, 109+1)):\n",
    "    if i in [0, 8]: continue\n",
    "    \n",
    "    fname = f\"../../raw/PAMAP2/Protocol/subject{person}.dat\"\n",
    "    df = pd.read_csv(fname, sep=\" \", header=None)\n",
    "    df = df.drop(columns=[0, 2])\n",
    "    df = df.dropna()\n",
    "    df = df.drop(df[df[1] == 0].index)\n",
    "    \n",
    "    values = df.values[:, 1:]\n",
    "    labels = df.values[:, 0].astype(int)\n",
    "    \n",
    "    if normalize:\n",
    "        #values = (values - values.mean(axis=0)) / values.std(axis=0)\n",
    "        values = values / ( values.max(axis=0) - values.min(axis=0) )\n",
    "    \n",
    "    dico = {}\n",
    "    for c in set(labels):\n",
    "        values_c = values[labels == c]\n",
    "        X = np.array([ arr.T for arr in chunks(values_c, n) ])\n",
    "        dico[c] = X\n",
    "    \n",
    "    data[i] = dico"
   ]
  },
  {
   "cell_type": "code",
   "execution_count": 4,
   "id": "8c62eac2",
   "metadata": {},
   "outputs": [],
   "source": [
    "with open(\"data.pickle\", 'wb') as handle: \n",
    "    pickle.dump(data, handle)"
   ]
  },
  {
   "cell_type": "code",
   "execution_count": 5,
   "id": "7d634494",
   "metadata": {},
   "outputs": [
    {
     "name": "stdout",
     "output_type": "stream",
     "text": [
      "dict_keys([1, 2, 3, 4, 5, 6, 7])\n",
      "dict_keys([1, 2, 3, 4, 12, 13, 16, 17])\n"
     ]
    }
   ],
   "source": [
    "with open(\"data.pickle\", 'rb') as handle:\n",
    "    data = pickle.load(handle)\n",
    "    print( data.keys() )\n",
    "    print( data[2].keys() )"
   ]
  },
  {
   "cell_type": "code",
   "execution_count": null,
   "id": "764a9f3d",
   "metadata": {},
   "outputs": [],
   "source": []
  },
  {
   "cell_type": "code",
   "execution_count": null,
   "id": "fd8e6c5f",
   "metadata": {},
   "outputs": [],
   "source": []
  },
  {
   "cell_type": "code",
   "execution_count": null,
   "id": "f83608a7",
   "metadata": {},
   "outputs": [],
   "source": []
  }
 ],
 "metadata": {
  "kernelspec": {
   "display_name": "Python 3 (ipykernel)",
   "language": "python",
   "name": "python3"
  },
  "language_info": {
   "codemirror_mode": {
    "name": "ipython",
    "version": 3
   },
   "file_extension": ".py",
   "mimetype": "text/x-python",
   "name": "python",
   "nbconvert_exporter": "python",
   "pygments_lexer": "ipython3",
   "version": "3.10.12"
  }
 },
 "nbformat": 4,
 "nbformat_minor": 5
}
