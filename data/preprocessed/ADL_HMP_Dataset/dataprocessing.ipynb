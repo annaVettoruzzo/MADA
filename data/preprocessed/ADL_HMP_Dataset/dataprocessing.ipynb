{
 "cells": [
  {
   "cell_type": "code",
   "execution_count": 1,
   "id": "d87d5e88",
   "metadata": {},
   "outputs": [],
   "source": [
    "import pandas as pd\n",
    "import numpy as np\n",
    "import pickle\n",
    "from glob import glob\n",
    "from collections import defaultdict\n",
    "import os"
   ]
  },
  {
   "cell_type": "code",
   "execution_count": 2,
   "id": "bca104d9",
   "metadata": {},
   "outputs": [],
   "source": [
    "def chunks(lst, n):\n",
    "    chunked = [ lst[i:i + n] for i in range(0, len(lst), n) ]\n",
    "    return np.array(chunked[:-1])"
   ]
  },
  {
   "cell_type": "code",
   "execution_count": 5,
   "id": "7d29ede1",
   "metadata": {},
   "outputs": [],
   "source": [
    "n = 32\n",
    "normalize = True\n",
    "dirs = [x[0] for x in os.walk(\"../../raw/ADL_HMP_Dataset/\") if \"MODEL\" not in x[0]][1:]\n",
    "\n",
    "data = defaultdict(lambda: defaultdict(list))\n",
    "dico = {}\n",
    "\n",
    "for c, dire in enumerate(dirs):\n",
    "    files = glob(f\"{dire}/*\")\n",
    "    files = sorted(files)\n",
    "    subjects = [f.split(\"-\")[-1].split(\".\")[0] for f in files]\n",
    "\n",
    "    for s, fname in zip(subjects, files):\n",
    "\n",
    "        values = pd.read_csv(fname, header=None, sep=\" \").dropna().values.astype(float)\n",
    "\n",
    "        if normalize:\n",
    "            #values = (values - values.mean(axis=0)) / values.std(axis=0)\n",
    "            values = values / ( values.max(axis=0) - values.min(axis=0) )\n",
    "        \n",
    "        X_ = [ arr.T for arr in chunks(values, n) ]\n",
    "\n",
    "        data[s][c] += X_\n",
    "\n",
    "        #print(s, fname, np.array(X_).shape, np.array(data[s][c]).shape)\n",
    "data = { i: {c: np.array(X) for c, X in data[s].items()} for i, s in enumerate(data.keys()) if len(data[s]) > 10 }"
   ]
  },
  {
   "cell_type": "code",
   "execution_count": 6,
   "id": "2f9546dc",
   "metadata": {},
   "outputs": [
    {
     "name": "stdout",
     "output_type": "stream",
     "text": [
      "==============> 0 14\n",
      "==============> 1 12\n",
      "==============> 2 12\n"
     ]
    }
   ],
   "source": [
    "for ke in data:\n",
    "    #print(data[ke].keys())\n",
    "    print(\"==============>\", ke, len(data[ke].keys()))"
   ]
  },
  {
   "cell_type": "code",
   "execution_count": 7,
   "id": "8c62eac2",
   "metadata": {},
   "outputs": [],
   "source": [
    "with open(f\"data.pickle\", 'wb') as handle: \n",
    "    pickle.dump(data, handle)"
   ]
  },
  {
   "cell_type": "code",
   "execution_count": 6,
   "id": "7d634494",
   "metadata": {},
   "outputs": [
    {
     "name": "stdout",
     "output_type": "stream",
     "text": [
      "dict_keys([0, 1, 2])\n",
      "dict_keys([0, 1, 2, 3, 4, 7, 8, 9, 10, 11, 12, 13])\n"
     ]
    }
   ],
   "source": [
    "with open(f\"data.pickle\", 'rb') as handle:\n",
    "    data = pickle.load(handle)\n",
    "    print( data.keys() )\n",
    "    print( data[1].keys() )"
   ]
  },
  {
   "cell_type": "code",
   "execution_count": null,
   "id": "764a9f3d",
   "metadata": {},
   "outputs": [],
   "source": []
  },
  {
   "cell_type": "code",
   "execution_count": null,
   "id": "fd8e6c5f",
   "metadata": {},
   "outputs": [],
   "source": []
  },
  {
   "cell_type": "code",
   "execution_count": null,
   "id": "f83608a7",
   "metadata": {},
   "outputs": [],
   "source": []
  }
 ],
 "metadata": {
  "kernelspec": {
   "display_name": "Python 3 (ipykernel)",
   "language": "python",
   "name": "python3"
  },
  "language_info": {
   "codemirror_mode": {
    "name": "ipython",
    "version": 3
   },
   "file_extension": ".py",
   "mimetype": "text/x-python",
   "name": "python",
   "nbconvert_exporter": "python",
   "pygments_lexer": "ipython3",
   "version": "3.10.12"
  }
 },
 "nbformat": 4,
 "nbformat_minor": 5
}
